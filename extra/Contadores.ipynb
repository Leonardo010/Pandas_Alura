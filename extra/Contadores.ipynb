{
 "cells": [
  {
   "cell_type": "code",
   "execution_count": 1,
   "id": "fa64e61f",
   "metadata": {},
   "outputs": [
    {
     "data": {
      "text/plain": [
       "0     a\n",
       "1     s\n",
       "2     d\n",
       "3     j\n",
       "4     f\n",
       "5     a\n",
       "6     k\n",
       "7     j\n",
       "8     s\n",
       "9     l\n",
       "10    d\n",
       "11    j\n",
       "12    f\n",
       "13    k\n",
       "14    l\n",
       "15    a\n",
       "16    s\n",
       "17    j\n",
       "18    d\n",
       "19    f\n",
       "20    k\n",
       "21    l\n",
       "22    j\n",
       "23    k\n",
       "24    l\n",
       "25    j\n",
       "26    s\n",
       "27    l\n",
       "28    d\n",
       "29    f\n",
       "dtype: object"
      ]
     },
     "execution_count": 1,
     "metadata": {},
     "output_type": "execute_result"
    }
   ],
   "source": [
    "import pandas as pd\n",
    "s = pd.Series(list('asdjfakjsldjfklasjdfkljkljsldf'))\n",
    "s"
   ]
  },
  {
   "cell_type": "code",
   "execution_count": 2,
   "id": "65df364a",
   "metadata": {},
   "outputs": [
    {
     "data": {
      "text/plain": [
       "j    6\n",
       "l    5\n",
       "s    4\n",
       "d    4\n",
       "f    4\n",
       "k    4\n",
       "a    3\n",
       "dtype: int64"
      ]
     },
     "execution_count": 2,
     "metadata": {},
     "output_type": "execute_result"
    }
   ],
   "source": [
    "s.value_counts()"
   ]
  },
  {
   "cell_type": "code",
   "execution_count": null,
   "id": "7dbbb487",
   "metadata": {},
   "outputs": [],
   "source": []
  }
 ],
 "metadata": {
  "kernelspec": {
   "display_name": "Python 3 (ipykernel)",
   "language": "python",
   "name": "python3"
  },
  "language_info": {
   "codemirror_mode": {
    "name": "ipython",
    "version": 3
   },
   "file_extension": ".py",
   "mimetype": "text/x-python",
   "name": "python",
   "nbconvert_exporter": "python",
   "pygments_lexer": "ipython3",
   "version": "3.9.7"
  }
 },
 "nbformat": 4,
 "nbformat_minor": 5
}
