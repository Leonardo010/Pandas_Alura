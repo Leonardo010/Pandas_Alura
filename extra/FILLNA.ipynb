{
 "cells": [
  {
   "cell_type": "code",
   "execution_count": 2,
   "id": "a4d7b155",
   "metadata": {},
   "outputs": [],
   "source": [
    "import pandas as pd\n",
    "serie = pd.Series(data = [0.5, None, 12, 12 , 23, 12, 124, 15, None, None, 12, None])\n"
   ]
  },
  {
   "cell_type": "code",
   "execution_count": 3,
   "id": "11b903eb",
   "metadata": {},
   "outputs": [
    {
     "data": {
      "text/plain": [
       "0       0.5\n",
       "1       NaN\n",
       "2      12.0\n",
       "3      12.0\n",
       "4      23.0\n",
       "5      12.0\n",
       "6     124.0\n",
       "7      15.0\n",
       "8       NaN\n",
       "9       NaN\n",
       "10     12.0\n",
       "11      NaN\n",
       "dtype: float64"
      ]
     },
     "execution_count": 3,
     "metadata": {},
     "output_type": "execute_result"
    }
   ],
   "source": [
    "serie"
   ]
  },
  {
   "cell_type": "markdown",
   "id": "6b1460d1",
   "metadata": {},
   "source": [
    "## Completa com dado anterior"
   ]
  },
  {
   "cell_type": "code",
   "execution_count": 4,
   "id": "4efcdd96",
   "metadata": {},
   "outputs": [
    {
     "data": {
      "text/plain": [
       "0       0.5\n",
       "1       0.5\n",
       "2      12.0\n",
       "3      12.0\n",
       "4      23.0\n",
       "5      12.0\n",
       "6     124.0\n",
       "7      15.0\n",
       "8      15.0\n",
       "9      15.0\n",
       "10     12.0\n",
       "11     12.0\n",
       "dtype: float64"
      ]
     },
     "execution_count": 4,
     "metadata": {},
     "output_type": "execute_result"
    }
   ],
   "source": [
    "serie.fillna(method='ffill')\n"
   ]
  },
  {
   "cell_type": "code",
   "execution_count": 5,
   "id": "6aba24d0",
   "metadata": {},
   "outputs": [
    {
     "data": {
      "text/plain": [
       "0       0.5\n",
       "1      12.0\n",
       "2      12.0\n",
       "3      12.0\n",
       "4      23.0\n",
       "5      12.0\n",
       "6     124.0\n",
       "7      15.0\n",
       "8      12.0\n",
       "9      12.0\n",
       "10     12.0\n",
       "11      NaN\n",
       "dtype: float64"
      ]
     },
     "execution_count": 5,
     "metadata": {},
     "output_type": "execute_result"
    }
   ],
   "source": [
    "serie.fillna(method='bfill')"
   ]
  },
  {
   "cell_type": "code",
   "execution_count": null,
   "id": "e4b7cf1e",
   "metadata": {},
   "outputs": [],
   "source": []
  }
 ],
 "metadata": {
  "kernelspec": {
   "display_name": "Python 3 (ipykernel)",
   "language": "python",
   "name": "python3"
  },
  "language_info": {
   "codemirror_mode": {
    "name": "ipython",
    "version": 3
   },
   "file_extension": ".py",
   "mimetype": "text/x-python",
   "name": "python",
   "nbconvert_exporter": "python",
   "pygments_lexer": "ipython3",
   "version": "3.9.7"
  }
 },
 "nbformat": 4,
 "nbformat_minor": 5
}
